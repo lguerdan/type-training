{
 "cells": [
  {
   "cell_type": "code",
   "execution_count": 46,
   "metadata": {
    "collapsed": false
   },
   "outputs": [
    {
     "ename": "ImportError",
     "evalue": "No module named scipy",
     "output_type": "error",
     "traceback": [
      "\u001b[0;31m---------------------------------------------------------------------------\u001b[0m",
      "\u001b[0;31mImportError\u001b[0m                               Traceback (most recent call last)",
      "\u001b[0;32m<ipython-input-46-0d0d91443f4e>\u001b[0m in \u001b[0;36m<module>\u001b[0;34m()\u001b[0m\n\u001b[1;32m      4\u001b[0m \u001b[0;32mfrom\u001b[0m \u001b[0mmatplotlib\u001b[0m \u001b[0;32mimport\u001b[0m \u001b[0mpyplot\u001b[0m \u001b[0;32mas\u001b[0m \u001b[0mplt\u001b[0m\u001b[0;34m\u001b[0m\u001b[0m\n\u001b[1;32m      5\u001b[0m \u001b[0mget_ipython\u001b[0m\u001b[0;34m(\u001b[0m\u001b[0;34m)\u001b[0m\u001b[0;34m.\u001b[0m\u001b[0mmagic\u001b[0m\u001b[0;34m(\u001b[0m\u001b[0;34mu'matplotlib inline'\u001b[0m\u001b[0;34m)\u001b[0m\u001b[0;34m\u001b[0m\u001b[0m\n\u001b[0;32m----> 6\u001b[0;31m \u001b[0;32mimport\u001b[0m \u001b[0mscipy\u001b[0m\u001b[0;34m\u001b[0m\u001b[0m\n\u001b[0m",
      "\u001b[0;31mImportError\u001b[0m: No module named scipy"
     ]
    }
   ],
   "source": [
    "import pandas as pd\n",
    "import json, re\n",
    "from pandas.io.json import json_normalize\n",
    "from matplotlib import pyplot as plt\n",
    "%matplotlib inline  \n",
    "import scipy"
   ]
  },
  {
   "cell_type": "code",
   "execution_count": 3,
   "metadata": {
    "collapsed": false
   },
   "outputs": [],
   "source": [
    "with open('typing-data.json', 'r') as data_file:   \n",
    "    data = json.load(data_file)\n",
    "type_df = json_normalize(data['us:auto']['data'])\n"
   ]
  },
  {
   "cell_type": "code",
   "execution_count": 4,
   "metadata": {
    "collapsed": false
   },
   "outputs": [
    {
     "name": "stdout",
     "output_type": "stream",
     "text": [
      "Index([      u'timeStamp',            u'time',           u'speed',\n",
      "                 u'score',          u'length',      u'complexity',\n",
      "                u'errors',  u'histogram.32.h',  u'histogram.32.m',\n",
      "        u'histogram.32.t',  u'histogram.97.h',  u'histogram.97.m',\n",
      "        u'histogram.97.t',  u'histogram.98.h',  u'histogram.98.m',\n",
      "        u'histogram.98.t',  u'histogram.99.h',  u'histogram.99.m',\n",
      "        u'histogram.99.t', u'histogram.100.h', u'histogram.100.m',\n",
      "       u'histogram.100.t', u'histogram.101.h', u'histogram.101.m',\n",
      "       u'histogram.101.t', u'histogram.102.h', u'histogram.102.m',\n",
      "       u'histogram.102.t', u'histogram.103.h', u'histogram.103.m',\n",
      "       u'histogram.103.t', u'histogram.104.h', u'histogram.104.m',\n",
      "       u'histogram.104.t', u'histogram.105.h', u'histogram.105.m',\n",
      "       u'histogram.105.t', u'histogram.106.h', u'histogram.106.m',\n",
      "       u'histogram.106.t', u'histogram.107.h', u'histogram.107.m',\n",
      "       u'histogram.107.t', u'histogram.108.h', u'histogram.108.m',\n",
      "       u'histogram.108.t', u'histogram.109.h', u'histogram.109.m',\n",
      "       u'histogram.109.t', u'histogram.110.h', u'histogram.110.m',\n",
      "       u'histogram.110.t', u'histogram.111.h', u'histogram.111.m',\n",
      "       u'histogram.111.t', u'histogram.112.h', u'histogram.112.m',\n",
      "       u'histogram.112.t', u'histogram.113.h', u'histogram.113.m',\n",
      "       u'histogram.113.t', u'histogram.114.h', u'histogram.114.m',\n",
      "       u'histogram.114.t', u'histogram.115.h', u'histogram.115.m',\n",
      "       u'histogram.115.t', u'histogram.116.h', u'histogram.116.m',\n",
      "       u'histogram.116.t', u'histogram.117.h', u'histogram.117.m',\n",
      "       u'histogram.117.t', u'histogram.118.h', u'histogram.118.m',\n",
      "       u'histogram.118.t', u'histogram.119.h', u'histogram.119.m',\n",
      "       u'histogram.119.t', u'histogram.120.h', u'histogram.120.m',\n",
      "       u'histogram.120.t', u'histogram.121.h', u'histogram.121.m',\n",
      "       u'histogram.121.t', u'histogram.122.h', u'histogram.122.m',\n",
      "       u'histogram.122.t'],\n",
      "      dtype='object')\n"
     ]
    }
   ],
   "source": [
    "cols = type_df.columns.tolist()\n",
    "cols = cols[83:][::-1] + cols[0:2] + cols[2:83] \n",
    "cols = cols[0:7] + cols[76:] + cols[7:76]\n",
    "type_df = type_df[cols]\n",
    "\n",
    "cols = type_df.columns.tolist()\n",
    "\n",
    "for ix, col in enumerate(cols):\n",
    "  \n",
    "    if re.match('.*.m$',col):\n",
    "        ASCI = int(col.split('.')[1].split('.')[0])\n",
    "        replace = chr(ASCI).upper() if chr(ASCI).upper() != 99 else 'Space'\n",
    "        cols[ix] = replace + \"_missed\"\n",
    "   \n",
    "    elif re.match('.*.t$',col):\n",
    "        ASCI = int(col.split('.')[1].split('.')[0])\n",
    "        replace = chr(ASCI).upper() if chr(ASCI).upper() != 99 else 'Space'\n",
    "        cols[ix] = replace + \"_time\"\n",
    "    \n",
    "    elif re.match('.*[0-9].h$',col):\n",
    "        ASCI = int(col.split('.')[1].split('.')[0])\n",
    "        replace = chr(ASCI).upper() if chr(ASCI).upper() != 99 else 'Space'\n",
    "        cols[ix] = replace + \"_hit\" \n",
    "\n",
    "cols[7] = 'Space_hit'\n",
    "cols[8] = 'Space_missed'\n",
    "cols[9] = 'Space_time'\n",
    "\n",
    "old_cols = type_df.columns.tolist()\n",
    "names = dict(zip(old_cols, cols))\n",
    "type_df.rename(columns=names, inplace=True)\n",
    "type_df.to_csv('typing-data_formatted.csv', index = False)"
   ]
  },
  {
   "cell_type": "code",
   "execution_count": 56,
   "metadata": {
    "collapsed": false
   },
   "outputs": [
    {
     "data": {
      "text/plain": [
       "[<matplotlib.lines.Line2D at 0x115390810>]"
      ]
     },
     "execution_count": 56,
     "metadata": {},
     "output_type": "execute_result"
    },
    {
     "data": {
      "image/png": "[encoded data removed]",
      "text/plain": [
       "<matplotlib.figure.Figure at 0x112cdc490>"
      ]
     },
     "metadata": {},
     "output_type": "display_data"
    }
   ],
   "source": [
    "\n",
    "V_ratio = pd.Series(type_df.V_missed / type_df.V_hit, name = \"V_miss_freq\")\n",
    "\n",
    "averaged = V_ratio.rolling(2, center=False).mean()\n",
    "# interpolated = averaged.interpolate(method = 'cubic')\n",
    "\n",
    "plt.plot(type_df.V_time)\n",
    "\n"
   ]
  },
  {
   "cell_type": "code",
   "execution_count": 57,
   "metadata": {
    "collapsed": false
   },
   "outputs": [
    {
     "data": {
      "image/png": "[encoded data removed]",
      "text/plain": [
       "<matplotlib.figure.Figure at 0x114a1c310>"
      ]
     },
     "metadata": {},
     "output_type": "display_data"
    }
   ],
   "source": [
    "plt.plot(averaged)\n",
    "plt.show()\n",
    "\n",
    "\n",
    "\n",
    "\n"
   ]
  },
  {
   "cell_type": "code",
   "execution_count": null,
   "metadata": {
    "collapsed": true
   },
   "outputs": [],
   "source": []
  }
 ],
 "metadata": {
  "kernelspec": {
   "display_name": "Python 2",
   "language": "python",
   "name": "python2"
  },
  "language_info": {
   "codemirror_mode": {
    "name": "ipython",
    "version": 2
   },
   "file_extension": ".py",
   "mimetype": "text/x-python",
   "name": "python",
   "nbconvert_exporter": "python",
   "pygments_lexer": "ipython2",
   "version": "2.7.10"
  }
 },
 "nbformat": 4,
 "nbformat_minor": 0
}
